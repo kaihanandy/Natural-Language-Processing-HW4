{
 "cells": [
  {
   "cell_type": "code",
   "execution_count": 3,
   "id": "ae6376e9",
   "metadata": {},
   "outputs": [],
   "source": [
    "import word2vec"
   ]
  },
  {
   "cell_type": "code",
   "execution_count": 6,
   "id": "5007ca09",
   "metadata": {},
   "outputs": [
    {
     "name": "stdout",
     "output_type": "stream",
     "text": [
      "傅達仁今將執行安樂死，卻突然爆出自己20年前遭緯來體育臺封殺，他不懂自己哪裏得罪到電視臺。\n"
     ]
    }
   ],
   "source": [
    "from opencc import OpenCC\n",
    "\n",
    "cc = OpenCC('s2t')\n",
    "text = '傅达仁今将执行安乐死，却突然爆出自己20年前遭纬来体育台封杀，他不懂自己哪里得罪到电视台。'\n",
    "\n",
    "print(cc.convert(text))"
   ]
  },
  {
   "cell_type": "code",
   "execution_count": null,
   "id": "5a48e67d",
   "metadata": {},
   "outputs": [],
   "source": []
  }
 ],
 "metadata": {
  "kernelspec": {
   "display_name": "Python 3 (ipykernel)",
   "language": "python",
   "name": "python3"
  },
  "language_info": {
   "codemirror_mode": {
    "name": "ipython",
    "version": 3
   },
   "file_extension": ".py",
   "mimetype": "text/x-python",
   "name": "python",
   "nbconvert_exporter": "python",
   "pygments_lexer": "ipython3",
   "version": "3.7.9"
  }
 },
 "nbformat": 4,
 "nbformat_minor": 5
}
